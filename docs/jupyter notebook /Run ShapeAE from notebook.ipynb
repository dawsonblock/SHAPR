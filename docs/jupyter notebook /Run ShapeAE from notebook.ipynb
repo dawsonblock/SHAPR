{
 "cells": [
  {
   "cell_type": "markdown",
   "metadata": {},
   "source": [
    "This notebook can be used to run ShapeAE locally or in google colab\n",
    "\n",
    "We first install ShapeAE then set the paths and run it"
   ]
  },
  {
   "cell_type": "code",
   "execution_count": null,
   "metadata": {},
   "outputs": [],
   "source": [
    "# first we install ShapeAE using pip install \n",
    "!pip3 install shapr"
   ]
  },
  {
   "cell_type": "markdown",
   "metadata": {},
   "source": [
    "Now we choose the desired settings: \n",
    "settings.path : The path containing the image, mask and obj folder with correspondig files (see sample)\n",
    "settings.result_path : The path where ShapeAEs results should be saved\n",
    "settings.random_seed : The random seed \n",
    "settings.batch_size : The batchsize, we recommend an even number smaller than 10 and larger than 4 \n",
    "settings.epochs_ShapeAE : The number of epochs ShapeAE should be trained in a supervised fashion\n",
    "settings.epochs_cShapeAE : The number of epochs ShapeAE should be trained with the discriminator"
   ]
  },
  {
   "cell_type": "code",
   "execution_count": null,
   "metadata": {
    "scrolled": false
   },
   "outputs": [],
   "source": [
    "from shapr import settings, run_train, run_evaluation\n",
    "settings.path =  \"./docs/sample/\"\n",
    "settings.result_path =  \"./docs/sample/SHAPR_results/\"\n",
    "#run ShapeAE\n",
    "run_train()"
   ]
  },
  {
   "cell_type": "code",
   "execution_count": null,
   "metadata": {},
   "outputs": [],
   "source": []
  },
  {
   "cell_type": "code",
   "execution_count": null,
   "metadata": {},
   "outputs": [],
   "source": []
  }
 ],
 "metadata": {
  "kernelspec": {
   "display_name": "Python 3",
   "language": "python",
   "name": "python3"
  },
  "language_info": {
   "codemirror_mode": {
    "name": "ipython",
    "version": 3
   },
   "file_extension": ".py",
   "mimetype": "text/x-python",
   "name": "python",
   "nbconvert_exporter": "python",
   "pygments_lexer": "ipython3",
   "version": "3.6.8rc1"
  }
 },
 "nbformat": 4,
 "nbformat_minor": 4
}
