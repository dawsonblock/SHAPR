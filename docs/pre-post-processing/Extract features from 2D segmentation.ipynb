{
 "cells": [
  {
   "cell_type": "markdown",
   "metadata": {},
   "source": [
    "Jupyter notebook to extract features from the 2D segmentation\n",
    "Written by Dominik Waibel & Niklas Kiermeyer"
   ]
  },
  {
   "cell_type": "code",
   "execution_count": null,
   "metadata": {},
   "outputs": [],
   "source": [
    "#import dependencies\n",
    "import os \n",
    "import numpy as np\n",
    "from skimage.io import imread, imsave\n",
    "from skimage.measure import label, regionprops\n",
    "from skimage import measure\n",
    "import trimesh\n",
    "import matplotlib.pyplot as plt\n",
    "from mpl_toolkits.mplot3d.art3d import Poly3DCollection\n",
    "import trimesh\n",
    "import cv2\n",
    "import math\n",
    "from skimage.transform import resize\n",
    "import numpy.linalg as linalg\n",
    "from pyellipsoid import drawing\n",
    "from skimage.filters import threshold_otsu\n",
    "from skimage.feature import shape_index\n",
    "from scipy.ndimage.measurements import center_of_mass\n",
    "from skimage.filters import gaussian\n",
    "import seaborn as sns\n",
    "import csv\n",
    "from scipy.ndimage.morphology import binary_dilation\n",
    "import copy\n",
    "from scipy.ndimage import gaussian_filter\n",
    "from skimage.morphology import convex_hull_image\n",
    "from skimage.feature import greycomatrix, greycoprops\n",
    "from skimage.measure import moments\n",
    "from skimage.feature import hog\n",
    "from skimage.filters import gabor"
   ]
  },
  {
   "cell_type": "code",
   "execution_count": null,
   "metadata": {},
   "outputs": [],
   "source": [
    "# set the path to the 2D segmentations (\"mask\") and the folder where the features should be saved\n",
    "test_path = \"./SHAPR/Blood_cell//mask/\"\n",
    "out_path =  \"./Blood_cell/features/\""
   ]
  },
  {
   "cell_type": "code",
   "execution_count": null,
   "metadata": {},
   "outputs": [],
   "source": [
    "# normalize and threshold the data using Otsu's method: \n",
    "#https://scikit-image.org/docs/dev/auto_examples/segmentation/plot_thresholding.html\n",
    "def norm_thres(data): \n",
    "    maxd = np.max(data)\n",
    "    data = data / maxd\n",
    "    data = np.nan_to_num(data)\n",
    "    if np.min(data)  >0:\n",
    "        thresh = threshold_otsu(data)\n",
    "        binary = data > thresh\n",
    "    else: \n",
    "        binary = data\n",
    "    return binary*1.0"
   ]
  },
  {
   "cell_type": "code",
   "execution_count": null,
   "metadata": {},
   "outputs": [],
   "source": [
    "files = os.listdir(test_path)\n",
    "print(\"found\", len(files), \"files\")\n",
    "fdheader = [\"fd\"+str(i) for i in range(512)]\n",
    "\n",
    "with open(out_path + 'mask_features.csv', 'w') as writeFile:\n",
    "    writer = csv.writer(writeFile)\n",
    "    #create and combine the header\n",
    "    header = ['filename_msk', \"mean_msk\", 'surface_msk', 'boundary_msk', 'roughtness_msk', \n",
    "              'convexity_msk', \"moment_cr_msk\", \"moment_cc_msk\", \"gabor1_msk\",\"gabor2_msk\"]\n",
    "    writer.writerow(header)\n",
    "    \n",
    "    for index, file in enumerate(files): \n",
    "        print(index, file)\n",
    "        #read the data\n",
    "        mask = np.nan_to_num(norm_thres(np.squeeze(imread(test_path + file))/255.))\n",
    "        #calculate the boundary lenght\n",
    "        msk = copy.deepcopy(mask)\n",
    "        k = np.ones((3,3),dtype=int)\n",
    "        msk = msk.astype(int)\n",
    "        boundary = binary_dilation(msk==0, k) & msk\n",
    "        boundary_len = np.sum(boundary)\n",
    "        #calculate the area\n",
    "        mask_vol = np.sum(msk)\n",
    "        #calculate the roughness\n",
    "        smoothed_mask = copy.deepcopy(gaussian_filter(mask,2))\n",
    "        smoothed_mask = smoothed_mask > 0.5\n",
    "        roughtness = np.sum(np.abs(smoothed_mask-mask))\n",
    "        #calculate the convexity\n",
    "        convexity = np.sum(convex_hull_image(mask)-mask)\n",
    "        #calcualte the moments\n",
    "        m_m = measure.moments(msk)\n",
    "        cr_m = m_m[0, 1] / m_m[0, 0]\n",
    "        cc_m = m_m[1, 0] / m_m[0, 0]\n",
    "        \n",
    "        #calcualte the gabor features\n",
    "        gabor_msk1 = np.sum(gabor(msk,1)[0])\n",
    "        gabor_msk2 = np.sum(gabor(msk,0.1)[0])\n",
    "        #combine the features and write them to the .csv file\n",
    "        feat = [file, np.mean(mask), mask_vol, boundary_len, roughtness,convexity, \n",
    "                cr_m, cc_m,  \n",
    "                gabor_msk1, gabor_msk2]\n",
    "    \n",
    "        print(\"len features\", len(feat), len(header))\n",
    "        writer.writerow(feat)\n"
   ]
  }
 ],
 "metadata": {
  "kernelspec": {
   "display_name": "Python 3",
   "language": "python",
   "name": "python3"
  },
  "language_info": {
   "codemirror_mode": {
    "name": "ipython",
    "version": 3
   },
   "file_extension": ".py",
   "mimetype": "text/x-python",
   "name": "python",
   "nbconvert_exporter": "python",
   "pygments_lexer": "ipython3",
   "version": "3.6.8rc1"
  }
 },
 "nbformat": 4,
 "nbformat_minor": 4
}
