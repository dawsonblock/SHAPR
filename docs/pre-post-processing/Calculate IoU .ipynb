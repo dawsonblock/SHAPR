{
 "cells": [
  {
   "cell_type": "markdown",
   "metadata": {},
   "source": [
    "Jupyter notebook to calcualte the Intersection over Union between the groundtruth, \n",
    "SHAPR prediction, cylinder and ellipse fit. \n",
    "Written by Dominik Waibel & Niklas Kiermeyer"
   ]
  },
  {
   "cell_type": "markdown",
   "metadata": {},
   "source": [
    "Required Folder Structure\n",
    "\n",
    "-- SHAPR_dataset\n",
    "-- -- Ellipse_fit\n",
    "-- -- Cylinder_fit \n",
    "\n",
    "-- SHAPR_results"
   ]
  },
  {
   "cell_type": "code",
   "execution_count": null,
   "metadata": {},
   "outputs": [],
   "source": [
    "#import dependencies\n",
    "import os \n",
    "import numpy as np\n",
    "from skimage.io import imread, imsave\n",
    "from skimage.measure import label, regionprops\n",
    "from skimage import measure\n",
    "import trimesh\n",
    "import matplotlib.pyplot as plt\n",
    "from mpl_toolkits.mplot3d.art3d import Poly3DCollection\n",
    "import trimesh\n",
    "import cv2\n",
    "import math\n",
    "from skimage.transform import resize\n",
    "import numpy.linalg as linalg\n",
    "from pyellipsoid import drawing\n",
    "from skimage.filters import threshold_otsu\n",
    "from skimage.feature import shape_index\n",
    "from scipy.ndimage.measurements import center_of_mass\n",
    "from skimage.filters import gaussian\n",
    "import seaborn as sns\n",
    "import keras.backend as K\n",
    "from scipy.ndimage.morphology import binary_dilation\n",
    "from scipy.ndimage import gaussian_filter\n",
    "import copy\n",
    "from scipy.ndimage.morphology import binary_fill_holes"
   ]
  },
  {
   "cell_type": "code",
   "execution_count": null,
   "metadata": {},
   "outputs": [],
   "source": [
    "# set the path to the dataset folder and SHAPR results\n",
    "org_path = \"./SHAPR_dataset/SHAPR_results/\"\n",
    "test_path = \"./SHAPR_dataset//\"\n"
   ]
  },
  {
   "cell_type": "code",
   "execution_count": null,
   "metadata": {},
   "outputs": [],
   "source": [
    "# normalize and threshold the data using Otsu's method: \n",
    "#https://scikit-image.org/docs/dev/auto_examples/segmentation/plot_thresholding.html\n",
    "def norm_thres(data): \n",
    "    maxd = np.max(data)\n",
    "    data = np.nan_to_num(data / maxd)\n",
    "    if np.max(data)  > 0:\n",
    "        thresh = threshold_otsu(data)\n",
    "        #binary = data > 0.5\n",
    "        #print(\"threshold\", thresh)\n",
    "        binary = data > thresh\n",
    "    else: \n",
    "        binary = data\n",
    "    return binary*1.0"
   ]
  },
  {
   "cell_type": "code",
   "execution_count": null,
   "metadata": {},
   "outputs": [],
   "source": [
    "def IoU(y_true,y_pred): \n",
    "    intersection = y_true + y_pred\n",
    "    intersection = np.count_nonzero(intersection > 1.5)\n",
    "    union = y_true + y_pred\n",
    "    union = np.count_nonzero(union > 0.5)\n",
    "    return intersection / union"
   ]
  },
  {
   "cell_type": "code",
   "execution_count": null,
   "metadata": {
    "scrolled": true
   },
   "outputs": [],
   "source": [
    "IoU_cylinder = []; IoU_ellipse = []; IoU_shapr = []\n",
    "\n",
    "files = os.listdir(org_path)\n",
    "print(\"found\", len(files), \"files\")\n",
    "\n",
    "\n",
    "for index, file in enumerate(files): \n",
    "    print(index, file)\n",
    "    cylinder3d = imread(test_path + \"/Cylinder_fit/\"+file)/255.\n",
    "    ellipse3d = imread(test_path + \"/Ellipse_fit/\"+file)/255.\n",
    "    obj_gt = norm_thres(np.nan_to_num(imread(test_path + \"obj/\"+ file))) \n",
    "    SHAPR = norm_thres(np.nan_to_num(np.squeeze(imread(org_path + file))))\n",
    "\n",
    "    IoU_cylinder.append(IoU(cylinder3d,obj_gt))\n",
    "    IoU_ellipse.append(IoU(ellipse3d,obj_gt))\n",
    "    IoU_shapr.append(IoU(SHAPR, obj_gt))\n",
    "    fname.append(file)\n"
   ]
  },
  {
   "cell_type": "code",
   "execution_count": null,
   "metadata": {},
   "outputs": [],
   "source": [
    "print(\"Errors in %\")\n",
    "print(np.mean(IoU_shapr)*100, np.std(IoU_shapr)*100)\n",
    "print(np.mean(IoU_cylinder)*100,np.std(IoU_cylinder)*100 )\n",
    "print(np.mean(IoU_ellipse)*100, np.std(IoU_ellipse)*100)\n",
    "\n",
    "from scipy.stats import wilcoxon\n",
    "\n",
    "print(wilcoxon(IoU_shapr, IoU_mask3d))\n",
    "print(wilcoxon(IoU_shapr, IoU_ellipse))\n",
    "\n",
    "plt.figure(figsize =(8,6))\n",
    "ax = sns.violinplot(data = [IoU_shapr, IoU_cylinder, IoU_ellipse], \n",
    "            showfliers=False,color='lightgray', boxprops={'facecolor':'None'}, orient = \"h\")\n",
    "ax = sns.swarmplot(data = [IoU_shapr, IoU_cylinder, IoU_ellipse],color=\".25\", size =1.5, orient = \"h\")\n",
    "plt.xlabel('Wrongly labeled voxels', size = 15)\n",
    "plt.yticks([0, 1, 2], [\"SHAPR\",\"Cylinder\",\n",
    "                       \"Ellipse\"], size = 15)\n",
    "\n",
    "\n",
    "plt.locator_params(axis='x', nbins=4)\n",
    "plt.tight_layout()\n",
    "plt.grid(b=None)\n",
    "plt.grid(b=None)\n",
    "\n",
    "plt.show()"
   ]
  }
 ],
 "metadata": {
  "kernelspec": {
   "display_name": "Python 3",
   "language": "python",
   "name": "python3"
  },
  "language_info": {
   "codemirror_mode": {
    "name": "ipython",
    "version": 3
   },
   "file_extension": ".py",
   "mimetype": "text/x-python",
   "name": "python",
   "nbconvert_exporter": "python",
   "pygments_lexer": "ipython3",
   "version": "3.6.8rc1"
  }
 },
 "nbformat": 4,
 "nbformat_minor": 4
}
