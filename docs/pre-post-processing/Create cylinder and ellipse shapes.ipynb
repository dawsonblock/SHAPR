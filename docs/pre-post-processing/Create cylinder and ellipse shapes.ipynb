{
 "cells": [
  {
   "cell_type": "markdown",
   "metadata": {},
   "source": [
    "Jupyter notebook to create the cylinder and ellipse fit from the 2D segmentation. \n",
    "Written by Dominik Waibel & Niklas Kiermeyer"
   ]
  },
  {
   "cell_type": "markdown",
   "metadata": {},
   "source": [
    "Required Folder Structure\n",
    "\n",
    "-- SHAPR_dataset\n",
    "-- -- mask\n",
    "-- -- Ellipse_fit\n",
    "-- -- Cylinder_fit \n",
    "\n",
    "while the 2D segmentations are located in the mask folder"
   ]
  },
  {
   "cell_type": "code",
   "execution_count": null,
   "metadata": {},
   "outputs": [],
   "source": [
    "#import dependencies\n",
    "import os \n",
    "import numpy as np\n",
    "from skimage.io import imread, imsave\n",
    "from skimage.measure import label, regionprops\n",
    "from skimage import measure\n",
    "import trimesh\n",
    "import matplotlib.pyplot as plt\n",
    "from mpl_toolkits.mplot3d.art3d import Poly3DCollection\n",
    "import trimesh\n",
    "import cv2\n",
    "import math\n",
    "from skimage.transform import resize\n",
    "import numpy.linalg as linalg\n",
    "from pyellipsoid import drawing\n",
    "from skimage.filters import threshold_otsu\n",
    "from skimage.feature import shape_index\n",
    "from scipy.ndimage.measurements import center_of_mass\n",
    "from skimage.filters import gaussian\n",
    "import seaborn as sns\n",
    "import keras.backend as K\n",
    "from scipy.ndimage.morphology import binary_dilation\n",
    "from scipy.ndimage import gaussian_filter\n",
    "import copy\n",
    "from scipy.ndimage.morphology import binary_fill_holes\n",
    "from matplotlib.patches import Ellipse"
   ]
  },
  {
   "cell_type": "code",
   "execution_count": null,
   "metadata": {},
   "outputs": [],
   "source": [
    "# set the path to the dataset folder\n",
    "path = \"./SHAPR_dataset//\""
   ]
  },
  {
   "cell_type": "code",
   "execution_count": null,
   "metadata": {},
   "outputs": [],
   "source": [
    "# normalize and threshold the data using Otsu's method: \n",
    "#https://scikit-image.org/docs/dev/auto_examples/segmentation/plot_thresholding.html\n",
    "def norm_thres(data): \n",
    "    maxd = np.max(data)\n",
    "    data = np.nan_to_num(data / maxd)\n",
    "    if np.max(data)  > 0:\n",
    "        thresh = threshold_otsu(data)\n",
    "        binary = data > thresh\n",
    "    else: \n",
    "        binary = data\n",
    "    return binary*1.0"
   ]
  },
  {
   "cell_type": "code",
   "execution_count": null,
   "metadata": {},
   "outputs": [],
   "source": [
    "# perform an allipse fit\n",
    "def fitEllipse(cont):\n",
    "\n",
    "    x=cont[:,0]\n",
    "    y=cont[:,1]\n",
    "\n",
    "    x=x[:,None]\n",
    "    y=y[:,None]\n",
    "\n",
    "    D=np.hstack([x*x,x*y,y*y,x,y,np.ones(x.shape)])\n",
    "    S=np.dot(D.T,D)\n",
    "    C=np.zeros([6,6])\n",
    "    C[0,2]=C[2,0]=2\n",
    "    C[1,1]=-1\n",
    "    E,V=np.linalg.eig(np.dot(np.linalg.inv(S),C))\n",
    "\n",
    "    n=np.argmax(np.abs(E))\n",
    "\n",
    "    a=V[:,n]\n",
    "\n",
    "    #-------------------Fit ellipse-------------------\n",
    "    b,c,d,f,g,a=a[1]/2., a[2], a[3]/2., a[4]/2., a[5], a[0]\n",
    "    num=b*b-a*c\n",
    "    cx=(c*d-b*f)/num\n",
    "    cy=(a*f-b*d)/num\n",
    "\n",
    "    angle=0.5*np.arctan(2*b/(a-c))*180/np.pi\n",
    "    up = 2*(a*f*f+c*d*d+g*b*b-2*b*d*f-a*c*g)\n",
    "    down1=(b*b-a*c)*( (c-a)*np.sqrt(1+4*b*b/((a-c)*(a-c)))-(c+a))\n",
    "    down2=(b*b-a*c)*( (a-c)*np.sqrt(1+4*b*b/((a-c)*(a-c)))-(c+a))\n",
    "    a=np.nan_to_num(np.sqrt(abs(up/down1)))\n",
    "    b=np.nan_to_num(np.sqrt(abs(up/down2)))\n",
    "\n",
    "    params=[cx,cy,a,b,angle]\n",
    "\n",
    "    return params "
   ]
  },
  {
   "cell_type": "code",
   "execution_count": null,
   "metadata": {},
   "outputs": [],
   "source": [
    "# fit an ellipse to the 2D segmentation mask\n",
    "def get_ellipse(mask): \n",
    "    contours, hierarchy = cv2.findContours(mask, 1, 2)\n",
    "    if len(contours) >= 1:\n",
    "        cnt = contours[0]\n",
    "        if len(cnt) > 5:\n",
    "            #try:\n",
    "            if 1 ==1 :\n",
    "                ell_params = fitEllipse(cnt[:,0])\n",
    "                x, y, MA, ma, angle = ell_params\n",
    "                image_shape = (64,64,64)\n",
    "                # Define an ellipsoid, axis order is: X, Y, Z\n",
    "                ell_center = (x, y, 32)\n",
    "                ell_radii = (MA, ma, (MA+ma)/(4))\n",
    "                ell_angles = np.deg2rad([0, 0, angle.real])\n",
    "                ellipse3d = drawing.make_ellipsoid_image(image_shape, ell_center, ell_radii, ell_angles)\n",
    "                return ellipse3d*1.0\n",
    "        else:\n",
    "            return np.zeros((64, 64,64))\n",
    "    else:\n",
    "        return np.zeros((64, 64,64))"
   ]
  },
  {
   "cell_type": "code",
   "execution_count": null,
   "metadata": {},
   "outputs": [],
   "source": [
    "# fit a cylinder to the 2D segmentation\n",
    "def get_cylinder(mask):\n",
    "    contours, hierarchy = cv2.findContours(mask, 1, 2)\n",
    "    if len(contours) >= 1:\n",
    "        cnt = contours[0]\n",
    "        if len(cnt) > 3:\n",
    "            #try:\n",
    "            ell_params = fitEllipse(cnt[:,0])\n",
    "            x, y, MA, ma, angle = ell_params\n",
    "\n",
    "            mask3Dinner = mask[np.newaxis,...]\n",
    "            z_radius = int(round(MA+ma)/(2))\n",
    "            if z_radius > 64:\n",
    "                z_radius = 64 \n",
    "            if z_radius < 1:\n",
    "                z_radius = 1\n",
    "            mask3Dinner = resize(mask3Dinner,(z_radius,64,64), preserve_range=True)\n",
    "            mask3d = np.zeros((64,64,64))\n",
    "            mask3d[32-int(np.shape(mask3Dinner)[0]/2):32-int(np.shape(mask3Dinner)[0]/2)+int(np.shape(mask3Dinner)[0]),:,:] = mask3Dinner\n",
    "            return mask3d    \n",
    "        else:\n",
    "            return np.zeros((64, 64,64))\n",
    "    else:\n",
    "        return np.zeros((64, 64,64))"
   ]
  },
  {
   "cell_type": "code",
   "execution_count": null,
   "metadata": {
    "scrolled": true
   },
   "outputs": [],
   "source": [
    "files = os.listdir(path)\n",
    "print(\"found\", len(files), \"files\")\n",
    "\n",
    "for index, file in enumerate(files): \n",
    "    print(index, file)\n",
    "    #get the 2D segmentation (\"mask\")\n",
    "    mask = imread(test_path + \"/mask/\"+ file)\n",
    "    mask = np.array(binary_fill_holes(mask).astype(\"uint8\"))\n",
    "    #perform the cylidner and ellipse fit\n",
    "    ellipse = np.nan_to_num(get_ellipse(mask))\n",
    "    cylinder = norm_thres(np.nan_to_num(get_cylinder(mask)))\n",
    "    #save the cylinder and ellipse to the respective folders\n",
    "    imsave(test_path + \"/Cylinder_fit/\"+file, (cylinder*255.).astype(\"uint8\"))\n",
    "    imsave(test_path + \"/Ellipse_fit/\"+file, (ellipse*255.).astype(\"uint8\"))\n",
    "    "
   ]
  }
 ],
 "metadata": {
  "kernelspec": {
   "display_name": "Python 3",
   "language": "python",
   "name": "python3"
  },
  "language_info": {
   "codemirror_mode": {
    "name": "ipython",
    "version": 3
   },
   "file_extension": ".py",
   "mimetype": "text/x-python",
   "name": "python",
   "nbconvert_exporter": "python",
   "pygments_lexer": "ipython3",
   "version": "3.6.8rc1"
  }
 },
 "nbformat": 4,
 "nbformat_minor": 4
}
